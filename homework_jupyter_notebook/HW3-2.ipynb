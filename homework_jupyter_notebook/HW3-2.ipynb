{
 "cells": [
  {
   "cell_type": "markdown",
   "metadata": {},
   "source": [
    "# Using Python for Research Homework: Week 3, Case Study 2\n",
    "\n",
    "In this case study, we will find and plot the distribution of word frequencies for each translation of Hamlet.  Perhaps the distribution of word frequencies of Hamlet depends on the translation --- let's find out!"
   ]
  },
  {
   "cell_type": "code",
   "execution_count": 81,
   "metadata": {},
   "outputs": [],
   "source": [
    "# DO NOT EDIT THIS CODE!\n",
    "import os\n",
    "import pandas as pd\n",
    "import numpy as np\n",
    "from collections import Counter\n",
    "\n",
    "def count_words_fast(text):\n",
    "    text = text.lower()\n",
    "    skips = [\".\", \",\", \";\", \":\", \"'\", '\"', \"\\n\", \"!\", \"?\", \"(\", \")\"]\n",
    "    for ch in skips:\n",
    "        text = text.replace(ch, \"\")\n",
    "    word_counts = Counter(text.split(\" \"))\n",
    "    return word_counts\n",
    "\n",
    "def read_book(title_path):\n",
    "    text   = pd.read_csv(title_path, sep = \"\\n\", engine='python', encoding=\"utf8\")\n",
    "    text = text.to_string(index = False)\n",
    "    return text\n",
    "\n",
    "def word_stats(word_counts):\n",
    "    num_unique = len(word_counts)\n",
    "    counts = word_counts.values()\n",
    "    return (num_unique, counts)"
   ]
  },
  {
   "cell_type": "markdown",
   "metadata": {},
   "source": [
    "### Exercise 1 \n",
    "\n",
    "In this case study, we will find and visualize summary statistics of the text of different translations of Hamlet. For this case study, functions `count_words_fast`, `read_book`, and `word_stats` are already defined as in the Case 2 Videos (Videos 3.2.x).\n",
    "\n",
    "#### Instructions \n",
    "- Read in the data as a pandas dataframe using `pd.read_csv`. The data can be found at https://courses.edx.org/asset-v1:HarvardX+PH526x+2T2019+type@asset+block@hamlets.csv"
   ]
  },
  {
   "cell_type": "code",
   "execution_count": 82,
   "metadata": {},
   "outputs": [
    {
     "name": "stdout",
     "output_type": "stream",
     "text": [
      "            Unnamed: 0                                               text\n",
      "language                                                                 \n",
      "English              1  The Tragedie of Hamlet\\n                      ...\n",
      "German               2  Hamlet, Prinz von Dännemark.\\n                ...\n",
      "Portuguese           3  HAMLET\\n                             DRAMA EM ...\n"
     ]
    }
   ],
   "source": [
    "hamlets = pd.read_csv(\"https://courses.edx.org/asset-v1:HarvardX+PH526x+2T2019+type@asset+block@hamlets.csv\", index_col=1)\n",
    "print(hamlets)"
   ]
  },
  {
   "cell_type": "markdown",
   "metadata": {},
   "source": [
    "### Exercise 2 \n",
    "\n",
    "In this exercise, we will summarize the text for a single translation of Hamlet in a `pandas` dataframe. \n",
    "\n",
    "#### Instructions\n",
    "- Find the dictionary of word frequency in `text` by calling `count_words_fast()`. Store this as `counted_text`.\n",
    "- Create a `pandas` dataframe named `data`.\n",
    "- Using `counted_text`, define two columns in data:\n",
    "    - `word`, consisting of each unique word in text.\n",
    "    - `count`, consisting of the number of times each word in `word` is included in the text."
   ]
  },
  {
   "cell_type": "code",
   "execution_count": 97,
   "metadata": {},
   "outputs": [
    {
     "name": "stdout",
     "output_type": "stream",
     "text": [
      "                        word  count\n",
      "0                     hamlet    210\n",
      "1                      prinz     16\n",
      "2                        von    212\n",
      "3                  dännemark     14\n",
      "4                             67223\n",
      "5                    william      2\n",
      "6                shakespeare      2\n",
      "7                  übersetzt      2\n",
      "8                  christoph      1\n",
      "9                     martin      1\n",
      "10                   wieland      1\n",
      "11                       ein    214\n",
      "12               trauerspiel      1\n",
      "13                  personen      4\n",
      "14                  claudius      1\n",
      "15                     könig     94\n",
      "16                        in    292\n",
      "17                fortinbras     15\n",
      "18            norwegenhamlet      1\n",
      "19                      sohn     17\n",
      "20                       des     69\n",
      "21                   vorigen      6\n",
      "22                       und    580\n",
      "23                     neffe      4\n",
      "24                    gegenw      1\n",
      "25                  polonius     62\n",
      "26             ober-kämmerer      1\n",
      "27                   horatio     70\n",
      "28                    freund      8\n",
      "29                   laertes     56\n",
      "...                      ...    ...\n",
      "7451                  thwhat      1\n",
      "7452                  *want*      1\n",
      "7453                dproject      1\n",
      "7454               dedicated      1\n",
      "7455              increasing      1\n",
      "7456                 tpublic      1\n",
      "7457                licensed      1\n",
      "7458                 machine      1\n",
      "7459                readable      1\n",
      "7460                 formthe      1\n",
      "7461              gratefully      1\n",
      "7462                 accepts      1\n",
      "7463                 opublic      1\n",
      "7464               materials      1\n",
      "7465                   copyr      1\n",
      "7466            foundationif      1\n",
      "7467              interested      1\n",
      "7468            contributing      1\n",
      "7469        scanningsoftware      1\n",
      "7470                   items      1\n",
      "7471                  michae      1\n",
      "7472  hart@poboxcom[portions      1\n",
      "7473                  header      1\n",
      "7474                 trailer      1\n",
      "7475                  mawhen      1\n",
      "7476               tradeused      1\n",
      "7477                   sales      1\n",
      "7478                hardware      1\n",
      "7479                 related      1\n",
      "7480         permission]*end      1\n",
      "\n",
      "[7481 rows x 2 columns]\n"
     ]
    }
   ],
   "source": [
    "language, text = hamlets.iloc[1]\n",
    "\n",
    "counted_text = count_words_fast(text)\n",
    "#print(counted_text)\n",
    "\n",
    "data = pd.DataFrame({\n",
    "        \"word\": list(counted_text.keys()),\n",
    "        \"count\": list(counted_text.values())\n",
    "    })\n",
    "\n",
    "print(data)\n",
    "    # for adding counted_text to data frame - DataFrame.append(self, other, ignore_index=False, verify_integrity=False, sort=None)[source]\n"
   ]
  },
  {
   "cell_type": "markdown",
   "metadata": {},
   "source": [
    "### Exercise 3\n",
    "\n",
    "In this exercise, we will continue to define summary statistics for a single translation of Hamlet. \n",
    "\n",
    "#### Instructions\n",
    "- Add a column to data named `length`, defined as the length of each word.\n",
    "- Add another column named `frequency`, which is defined as follows for each word in `data`:\n",
    "    - If `count > 10`, `frequency` is \"frequent\".\n",
    "    - If `1 < count <= 10`, `frequency` is \"infrequent\".\n",
    "    - If `count == 1`, `frequency` is \"unique\"."
   ]
  },
  {
   "cell_type": "code",
   "execution_count": 107,
   "metadata": {},
   "outputs": [
    {
     "name": "stdout",
     "output_type": "stream",
     "text": [
      "unique        5582\n",
      "infrequent    1596\n",
      "frequent       303\n",
      "Name: frequency, dtype: int64\n"
     ]
    }
   ],
   "source": [
    "#Add a column and apply length to column \"word\" in data\n",
    "data[\"length\"] = data[\"word\"].apply(len)\n",
    "#Add a column Frequency: If count > 10 - frequent; If 1 < count <= 10 - infrequent; If count == 1 - unique\n",
    "data.loc[data[\"count\"] > 10,  \"frequency\"] = \"frequent\"\n",
    "data.loc[data[\"count\"] <= 10, \"frequency\"] = \"infrequent\"\n",
    "data.loc[data[\"count\"] == 1,  \"frequency\"] = \"unique\"\n",
    "#print(data)\n",
    "#Count the Number of \"unique\" in column frequency\n",
    "unique_count = data.frequency.value_counts()\n",
    "print(unique_count)"
   ]
  },
  {
   "cell_type": "markdown",
   "metadata": {},
   "source": [
    "### Exercise 4\n",
    "\n",
    "In this exercise, we will summarize the statistics in data into a smaller pandas dataframe. \n",
    "\n",
    "#### Instructions \n",
    "- Create a `pandas` dataframe named `sub_data` including the following columns:\n",
    "    - `language`, which is the language of the text.\n",
    "    - `frequency`, which is a list containing the strings \"frequent\", \"infrequent\", and \"unique\".\n",
    "    - `mean_word_length`, which is the mean word length of each value in frequency.\n",
    "    - `num_words`, which is the total number of words in each frequency category."
   ]
  },
  {
   "cell_type": "code",
   "execution_count": null,
   "metadata": {},
   "outputs": [],
   "source": []
  },
  {
   "cell_type": "code",
   "execution_count": 108,
   "metadata": {},
   "outputs": [
    {
     "name": "stdout",
     "output_type": "stream",
     "text": [
      "            language   frequency  mean_word_length  num_words\n",
      "frequency                                                    \n",
      "frequent           3    frequent          4.528053        303\n",
      "infrequent         3  infrequent          6.481830       1596\n",
      "unique             3      unique          9.006987       5582\n"
     ]
    }
   ],
   "source": [
    "sub_data = pd.DataFrame({\n",
    "        \"language\": language,\n",
    "        \"frequency\": [\"frequent\",\"infrequent\",\"unique\"],\n",
    "        \"mean_word_length\": data.groupby(by = \"frequency\")[\"length\"].mean(),\n",
    "        \"num_words\": data.groupby(by = \"frequency\").size()\n",
    "    })\n",
    "\n",
    "print(sub_data)"
   ]
  },
  {
   "cell_type": "markdown",
   "metadata": {},
   "source": [
    "### Exercise 5\n",
    "\n",
    "In this exercise, we will join all the data summaries for text Hamlet translation.\n",
    "\n",
    "#### Instructions \n",
    "- The previous code for summarizing a particular translation of Hamlet is consolidated into a single function called `summarize_text`. Create a pandas dataframe` grouped_data` consisting of the results of `summarize_text` for each translation of Hamlet in `hamlets`.\n",
    "    - Use a `for` loop across the row indices of `hamlets` to assign each translation to a new row.\n",
    "    - Obtain the `ith` row of `hamlets` to variables using the `.iloc` method, and assign the output to variables `language` and `text`.\n",
    "    - Call `summarize_text` using `language` and `text`, and assign the output to `sub_data`.\n",
    "    - Use the pandas `.append()` function to append to pandas dataframes row-wise to `grouped_data`."
   ]
  },
  {
   "cell_type": "code",
   "execution_count": 120,
   "metadata": {},
   "outputs": [
    {
     "name": "stdout",
     "output_type": "stream",
     "text": [
      "           language   frequency  mean_word_length num_words\n",
      "frequent          1    frequent          4.371517       323\n",
      "infrequent        1  infrequent          5.825243      1442\n",
      "unique            1      unique          7.005675      3348\n",
      "frequent          2    frequent          4.528053       303\n",
      "infrequent        2  infrequent          6.481830      1596\n",
      "unique            2      unique          9.006987      5582\n",
      "frequent          3    frequent          4.417625       261\n",
      "infrequent        3  infrequent          6.497870      1643\n",
      "unique            3      unique          8.669778      5357\n"
     ]
    }
   ],
   "source": [
    "\n",
    "\n",
    "def summarize_text(language, text):\n",
    "    counted_text = count_words_fast(text)\n",
    "\n",
    "    data = pd.DataFrame({\n",
    "        \"word\": list(counted_text.keys()),\n",
    "        \"count\": list(counted_text.values())\n",
    "    })\n",
    "    \n",
    "    data.loc[data[\"count\"] > 10,  \"frequency\"] = \"frequent\"\n",
    "    data.loc[data[\"count\"] <= 10, \"frequency\"] = \"infrequent\"\n",
    "    data.loc[data[\"count\"] == 1,  \"frequency\"] = \"unique\"\n",
    "    \n",
    "    data[\"length\"] = data[\"word\"].apply(len)\n",
    "    \n",
    "    sub_data = pd.DataFrame({\n",
    "        \"language\": language,\n",
    "        \"frequency\": [\"frequent\",\"infrequent\",\"unique\"],\n",
    "        \"mean_word_length\": data.groupby(by = \"frequency\")[\"length\"].mean(),\n",
    "        \"num_words\": data.groupby(by = \"frequency\").size()\n",
    "    })\n",
    "    \n",
    "    return(sub_data)\n",
    "#Use the pandas .append() function to append to pandas dataframes row-wise to grouped_data. Needs to be outside loop\n",
    "grouped_data = pd.DataFrame(columns = [\"language\", \"frequency\", \"mean_word_length\", \"num_words\"])    \n",
    "# Use a for loop across the row indices of hamlets to assign each translation to a new row.\n",
    "for i in range(hamlets.shape[0]):\n",
    "    #ith row of hamlets to variables using the .iloc method, and assign the output to variables language and text.\n",
    "    language, text = hamlets.iloc[i]\n",
    "    #Call summarize_text using language and text, and assign the output to sub_data.\n",
    "    sub_data = summarize_text(language, text)\n",
    "    #Use the pandas .append() function to append to pandas dataframes row-wise to grouped_data.\n",
    "    grouped_data = grouped_data.append(sub_data)\n",
    "\n",
    "print(grouped_data)\n",
    "\n"
   ]
  },
  {
   "cell_type": "markdown",
   "metadata": {},
   "source": [
    "### Exercise 6\n",
    "\n",
    "In this exercise, we will plot our results and look for differences across each translation.\n",
    "\n",
    "#### Instructions \n",
    "- Plot the word statistics of each translations on a single plot. Note that we have already done most of the work for you.\n",
    "- Consider: do the word statistics differ by translation?"
   ]
  },
  {
   "cell_type": "code",
   "execution_count": 134,
   "metadata": {},
   "outputs": [
    {
     "data": {
      "image/png": "[encoded data removed]",
      "text/plain": [
       "<Figure size 432x288 with 1 Axes>"
      ]
     },
     "metadata": {
      "needs_background": "light"
     },
     "output_type": "display_data"
    }
   ],
   "source": [
    "colors = {\"Portuguese\": \"green\", \"English\": \"blue\", \"German\": \"red\"}\n",
    "markers = {\"frequent\": \"o\",\"infrequent\": \"s\", \"unique\": \"^\"}\n",
    "import matplotlib.pyplot as plt\n",
    "for i in range(grouped_data.shape[0]):\n",
    "    row = grouped_data.iloc[i]\n",
    "    plt.plot(row.mean_word_length, row.num_words,\n",
    "        marker=markers[row.frequency],\n",
    "        #color = colors[row.language],\n",
    "        markersize = 10\n",
    "    )\n",
    "\n",
    "color_legend = []\n",
    "marker_legend = []\n",
    "for color in colors:\n",
    "    color_legend.append(\n",
    "        plt.plot([], [],\n",
    "        color=colors[color],\n",
    "        marker=\"o\",\n",
    "        label = color, markersize = 10, linestyle=\"None\")\n",
    "    )\n",
    "for marker in markers:\n",
    "    marker_legend.append(\n",
    "        plt.plot([], [],\n",
    "        color=\"k\",\n",
    "        marker=markers[marker],\n",
    "        label = marker, markersize = 10, linestyle=\"None\")\n",
    "    )\n",
    "plt.legend(numpoints=1, loc = \"upper left\")\n",
    "\n",
    "plt.xlabel(\"Mean Word Length\")\n",
    "plt.ylabel(\"Number of Words\")\n",
    "plt.show()"
   ]
  }
 ],
 "metadata": {
  "kernelspec": {
   "display_name": "Python 3",
   "language": "python",
   "name": "python3"
  },
  "language_info": {
   "codemirror_mode": {
    "name": "ipython",
    "version": 3
   },
   "file_extension": ".py",
   "mimetype": "text/x-python",
   "name": "python",
   "nbconvert_exporter": "python",
   "pygments_lexer": "ipython3",
   "version": "3.7.3"
  }
 },
 "nbformat": 4,
 "nbformat_minor": 2
}
